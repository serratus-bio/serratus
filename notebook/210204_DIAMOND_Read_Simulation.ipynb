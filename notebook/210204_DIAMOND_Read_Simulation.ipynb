{
 "cells": [
  {
   "cell_type": "markdown",
   "metadata": {},
   "source": [
    "# DIAMOND - Read Simulation 1 Pbp\n",
    "\n",
    "```\n",
    "Lead     : ababaian / rce\n",
    "Issue    : <github issue #>\n",
    "start    : 2021 02 04\n",
    "complete : 2021 XX XX\n",
    "files    : NA\n",
    "s3 files : s3://serratus-public/notebook/200204_sim/\n",
    "```\n",
    "\n",
    "## Introduction\n",
    "\n",
    "What is the E-value of a false positive RdRP sequence given a huge input of data.\n"
   ]
  },
  {
   "cell_type": "markdown",
   "metadata": {},
   "source": [
    "## EC2 Set-up script\n",
    "\n",
    "- OS: `Amazon Linux 2 AMI (HVM) x86`\n",
    "- ami: `ami-0be2609ba883822ec`\n",
    "- instance: `c5.4xlarge`\n",
    "- description: `\"c5.4xlarge (- ECUs, 16 vCPUs, 3.4 GHz, -, 32 GiB memory, EBS only)\"`\n",
    "- storage: `100 GiB SSD (gp2)`\n",
    "- encryption: `false`\n"
   ]
  },
  {
   "cell_type": "code",
   "execution_count": null,
   "metadata": {},
   "outputs": [],
   "source": [
    "# date and version\n",
    "date"
   ]
  },
  {
   "cell_type": "code",
   "execution_count": null,
   "metadata": {},
   "outputs": [],
   "source": [
    "#!/bin/bash\n",
    "# run_sapphire.sh R\n",
    "# Set-up to run 8 cores\n",
    "reads=$1\n",
    "len=$2\n",
    "R=$3\n",
    "\n",
    "run_diamond () {\n",
    "  N=\"$1\"\n",
    "  reads=\"$2\"\n",
    "  len=\"$3\"\n",
    "  R=\"$4\"\n",
    "\n",
    "  ./randseq_cpp $reads $len \\\n",
    "    | diamond blastx \\\n",
    "    -d rdrp1.dmnd \\\n",
    "    --mmap-target-index \\\n",
    "    --target-indexed \\\n",
    "    --masking 0 \\\n",
    "    --mid-sensitive -s 1 \\\n",
    "    -c1 -p1 -k1 -b 0.75 \\\n",
    "    -f 6 qseqid  qstart qend qlen qstrand \\\n",
    "         sseqid  sstart send slen \\\n",
    "         pident evalue cigar \\\n",
    "         qseq_translated full_qseq full_qseq_mate \\\n",
    "    > randpro/\"$R$N\".100Mreads.\"$len\"nt.pro\n",
    "}\n",
    "\n",
    "\n",
    "# 96 runs are ~6 hours\n",
    "declare -a I=($(seq 1 10  1000))\n",
    "declare -a J=($(seq 10 10 1000))\n",
    "\n",
    "for M in $(seq 0 100); do\n",
    "  i=${I[M]}\n",
    "  j=${J[M]}\n",
    "\n",
    "  # run processes and store pids in array\n",
    "  for N in $(seq $i $j); do\n",
    "    run_diamond $N $reads $len $R &\n",
    "    pids[${p}]=$!\n",
    "  done\n",
    "\n",
    "  # wait for all pids\n",
    "  for pid in ${pids[*]}; do\n",
    "    wait $pid\n",
    "  done\n",
    "\n",
    "done # finish M\n",
    "\n",
    "                                     "
   ]
  },
  {
   "cell_type": "code",
   "execution_count": null,
   "metadata": {},
   "outputs": [],
   "source": [
    "# INSTALL DIAMOND from Serratus\n",
    "aws s3 cp s3://serratus-public/bin/diamond ./\n",
    "chmod 755 diamond\n",
    "sudo mv diamond /usr/bin/\n",
    "\n",
    "# INSTALL randseq_cpp simulator\n",
    "aws s3 cp s3://serratus-public/notebook/200204_sim/randseq_cpp ./\n",
    "chmod 755 randseq_cpp\n",
    "\n",
    "# DOWNLOAD rdrp1\n",
    "aws s3 sync s3://serratus-public/seq/rdrp1/ ./\n",
    "\n",
    "# DOWNLOAD Sapphire\n",
    "aws s3 cp s3://serratus-public/notebook/200204_sim/run_sapphire.sh ./\n",
    "\n",
    "echo done"
   ]
  },
  {
   "cell_type": "code",
   "execution_count": null,
   "metadata": {},
   "outputs": [],
   "source": [
    "# Update script\n",
    "aws s3 sync s3://serratus-public/notebook/210204_sim/ ./"
   ]
  },
  {
   "cell_type": "code",
   "execution_count": null,
   "metadata": {},
   "outputs": [],
   "source": [
    "# Run Saphire on EC2 Instance\n",
    "screen\n",
    "\n",
    "mkdir -p randpro\n",
    "chmod 755 randseq_cpp\n",
    "chmod 755 run_sapphire.sh\n",
    "\n",
    "./run_sapphire.sh 100000000 100 J\n",
    "\n",
    "aws s3 sync randpro/ s3://serratus-public/notebook/210204_sim/randpro/\n",
    "echo done\n"
   ]
  }
 ],
 "metadata": {
  "kernelspec": {
   "display_name": "Bash",
   "language": "bash",
   "name": "bash"
  },
  "language_info": {
   "codemirror_mode": "shell",
   "file_extension": ".sh",
   "mimetype": "text/x-sh",
   "name": "bash"
  }
 },
 "nbformat": 4,
 "nbformat_minor": 1
}
