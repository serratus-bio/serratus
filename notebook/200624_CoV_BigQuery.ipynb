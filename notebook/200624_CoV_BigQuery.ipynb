{
 "cells": [
  {
   "cell_type": "markdown",
   "metadata": {},
   "source": [
    "# BigQuiry CoV Test\n",
    "```\n",
    "Lead     : ababaian\n",
    "Issue    : -\n",
    "start    : 2020 06 24\n",
    "complete : 2020 06 24\n",
    "files    : ~/serratus/notebook/200624_ab/\n",
    "s3 files : s3://serratus-public/notebook/200624_ab/\n",
    "```\n",
    "\n",
    "## Introduction\n",
    "\n",
    "The SRA has deposited data on a kmer/minhash database for each SRA accession into a BigQuery database (SQL). On google cloud this can be queried quite easily. Here is some low-hanging fruit for us to compare kmer results.\n",
    "\n",
    "- [Register BigQuery](https://www.ncbi.nlm.nih.gov/sra/docs/sra-bigquery/)\n",
    "- [Example of SRA BigQuery](https://www.ncbi.nlm.nih.gov/sra/docs/sra-bigquery-examples/)\n",
    "- [Taxonomy Analysis](https://www.ncbi.nlm.nih.gov/sra/docs/sra-bigquery-taxonomy-analysis-table/)\n",
    "\n",
    "\n",
    "> select Pin a project and paste in nih-sra-datastore under the Enter the project Name prompt and click Pin. \n",
    ">\n",
    ">Tables\n",
    ">\n",
    ">Below are the tables currently available through BigQuery and their more extensive documentation:\n",
    ">\n",
    ">    SRA Metadata Table - Sample and SRA Metadata information organized by SRA run\n",
    ">    Taxonomy Analysis Information Table - Summary information on the taxonomy analysis done per SRA run\n",
    ">    Taxonomy Analysis Table - results of the taxonomy analysis\n",
    ">    Taxonomy Table - table containing the taxonomy database from NCBI\n",
    ">    Kmer Table - table containing kmers used in the taxonomy analysis\n",
    "\n"
   ]
  },
  {
   "cell_type": "markdown",
   "metadata": {},
   "source": [
    "## Materials and Methods\n"
   ]
  },
  {
   "cell_type": "markdown",
   "metadata": {},
   "source": [
    "### `Coronaviridae_tax_kmer`\n",
    "\n",
    "Ran on google BigQuery\n",
    "\n",
    "```\n",
    "SELECT\n",
    "  acc,\n",
    "  tax_id,\n",
    "  name,\n",
    "  total_count,\n",
    "  self_count\n",
    "FROM\n",
    "  nih-sra-datastore.sra_tax_analysis_tool.tax_analysis\n",
    "WHERE\n",
    "  tax_id=11118\n",
    "  AND total_count>1\n",
    "```\n",
    "\n",
    "Result: `20152`\n",
    "Date Accessed: `200624`\n",
    "\n",
    "Uploaded to `s3://serratus-public/notebook/200624_ab/`"
   ]
  },
  {
   "cell_type": "markdown",
   "metadata": {},
   "source": [
    "Example:\n",
    "\n",
    "```\n",
    "acc\ttax_id\tname\ttotal_count\tself_count\n",
    "SRR11968883\t11118\tCoronaviridae\t421986642\t4850662\n",
    "SRR11968885\t11118\tCoronaviridae\t309059445\t4170845\n",
    "SRR11968884\t11118\tCoronaviridae\t303876352\t3783249\n",
    "SRR11968879\t11118\tCoronaviridae\t281600518\t3486836\n",
    "SRR11968886\t11118\tCoronaviridae\t221134122\t2892843\n",
    "...\n",
    "SRR1985230\t11118\tCoronaviridae\t645\t142\n",
    "SRR11954274\t11118\tCoronaviridae\t644\t3\n",
    "SRR8184572\t11118\tCoronaviridae\t643\t318\n",
    "SRR8116693\t11118\tCoronaviridae\t643\t318\n",
    "SRR10179450\t11118\tCoronaviridae\t643\t6\n",
    "...\n",
    "```"
   ]
  },
  {
   "cell_type": "markdown",
   "metadata": {},
   "source": [
    "There are some key data-sets which were previously missed with SRA queries. In particular `Capillary` sequencing runs from JCVI for several human coronaviruses. This emphasizes a 'hole' in the current' search strategy. Will add an additional virome query.\n"
   ]
  },
  {
   "cell_type": "markdown",
   "metadata": {},
   "source": [
    "### Work in progress\n",
    "\n",
    "```\n",
    "SELECT\n",
    "  m.acc,\n",
    "  m.sample_acc,\n",
    "  m.biosample,\n",
    "  m.sra_study,\n",
    "  m.bioproject,\n",
    "  m.assay_type,\n",
    "  m.librarysource,\n",
    "  m.organism,\n",
    "  tax.tax_id,\n",
    "  tax.total_count,\n",
    "  tax.self_count\n",
    "FROM\n",
    "  nih-sra-datastore.sra.metadata AS m,\n",
    "  nih-sra-datastore.sra_tax_analysis_tool.tax_analysis AS tax\n",
    "WHERE\n",
    "  m.acc=tax.acc\n",
    "  AND tax_id=11118\n",
    "ORDER BY\n",
    "  m.bioproject,\n",
    "  m.sra_study,\n",
    "  m.biosample,\n",
    "  m.sample_acc\n",
    "```"
   ]
  }
 ],
 "metadata": {
  "kernelspec": {
   "display_name": "Bash",
   "language": "bash",
   "name": "bash"
  },
  "language_info": {
   "codemirror_mode": "shell",
   "file_extension": ".sh",
   "mimetype": "text/x-sh",
   "name": "bash"
  }
 },
 "nbformat": 4,
 "nbformat_minor": 1
}
