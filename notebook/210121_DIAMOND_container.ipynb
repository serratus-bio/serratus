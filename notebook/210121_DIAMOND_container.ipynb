{
 "cells": [
  {
   "cell_type": "markdown",
   "metadata": {},
   "source": [
    "# DIAMOND + NR EC2 instance\n",
    "```\n",
    "Lead     : ababaian\n",
    "Issue    : <github issue #>\n",
    "start    : 2021 01 21\n",
    "complete : 2021 XX XX\n",
    "files    : NA\n",
    "s3 files : s3://serratus-public/notebook/200121_nr/\n",
    "```\n",
    "\n",
    "## Introduction\n",
    "\n",
    "As we retrieve new sequences we will have to search every sequence against the \"NON REDUNDANT\" protein database. Probably the fastest approach is to grab a fasta of the NR database, index it for `diamond` and throw our sequences at it\n",
    "\n",
    "#### Links\n",
    "\n",
    "- [BLAST in the cloud](https://blast.ncbi.nlm.nih.gov/Blast.cgi?CMD=Web&PAGE_TYPE=BlastDocs&DOC_TYPE=CloudBlast)\n",
    "- [BLAST database information](https://github.com/ncbi/blast_plus_docs#blast-databases)"
   ]
  },
  {
   "cell_type": "markdown",
   "metadata": {},
   "source": [
    "## EC2 Set-up script\n",
    "\n",
    "- OS: `Amazon Linux 2 AMI (HVM) x86`\n",
    "- ami: `ami-0be2609ba883822ec`\n",
    "- instance: `c5.xlarge` // `r5d.4xlarge`\n",
    "- description: `\"c5.xlarge (- ECUs, 4 vCPUs, 3.4 GHz, -, 8 GiB memory, EBS only)\"`\n",
    "- description: `\"r5d.4xlarge (16 vCPU\t128 GB\t2 x 300 NVMe SSD)\"`\n",
    "- storage: `450 GiB SSD (gp2)`\n",
    "- encryption: `false`"
   ]
  },
  {
   "cell_type": "code",
   "execution_count": 1,
   "metadata": {},
   "outputs": [
    {
     "name": "stdout",
     "output_type": "stream",
     "text": [
      "Thu Jan 21 23:50:34 PST 2021\n"
     ]
    }
   ],
   "source": [
    "# date and version\n",
    "date"
   ]
  },
  {
   "cell_type": "code",
   "execution_count": null,
   "metadata": {},
   "outputs": [],
   "source": [
    "# INSTALL DIAMOND\n",
    "# From base amazon linux 2\n",
    "sudo yum install -y docker git\n",
    "\n",
    "# From `serratus-align` container\n",
    "mkdir diamond; cd diamond\n",
    "\n",
    "# Install diamond2 \n",
    "# Libraries for building diamond2\n",
    "sudo yum -y install git gcc gcc-c++ glibc-devel \\\n",
    "  cmake patch automake zlib-devel make\n",
    "\n",
    "# grab latest with fix from Benjamin\n",
    "git clone https://github.com/bbuchfink/diamond.git\n",
    "cd diamond\n",
    "\n",
    "mkdir bin; cd bin\n",
    "cmake ..\n",
    "make -j4\n",
    "sudo cp ./diamond /usr/bin/diamond\n",
    "sudo chmod 755 /usr/bin/diamond\n",
    "\n",
    "# stable copy to S3 servers\n",
    "# OLD: curl https://serratus-public.s3.amazonaws.com/bin/diamond > /usr/bin/diamond2; chmod 755 /usr/bin/diamond2\n",
    "# curl https://serratus-public.s3.amazonaws.com/bin/diamond > /usr/bin/diamond; chmod 755 /usr/bin/diamond\n"
   ]
  },
  {
   "cell_type": "code",
   "execution_count": null,
   "metadata": {},
   "outputs": [],
   "source": [
    "# DOWNLOAD BLAST DB - NR\n",
    "mkdir -p ~/nr; cd nr\n",
    "wget -O ftp://ftp.ncbi.nlm.nih.gov/blast/db/FASTA/nr.gz \\\n",
    " | pigz -d - \\\n",
    " > nr.fa\n",
    " \n",
    "# And taxonomy data\n",
    "wget ftp://ftp.ncbi.nlm.nih.gov/pub/taxonomy/accession2taxid/prot.accession2taxid.gz\n",
    "wget ftp://ftp.ncbi.nlm.nih.gov/pub/taxonomy/taxdmp.zip\n",
    "unzip taxdmp.zip"
   ]
  },
  {
   "cell_type": "code",
   "execution_count": null,
   "metadata": {},
   "outputs": [],
   "source": [
    "# Switch to r5d.4xlarge instance with 450 GB block storage\n",
    "# Make diamond nr db\n",
    "# Database hash = f0ef2411c9661667e19bf85d06ff9fab\n",
    "\n",
    "diamond makedb -p 14 --in nr.fa \\\n",
    "  --taxonmap prot.accession2taxid.gz \\\n",
    "  --taxonnodes nodes.dmp \\\n",
    "  --taxonnames names.dmp \\\n",
    "  -d nr"
   ]
  },
  {
   "cell_type": "code",
   "execution_count": null,
   "metadata": {},
   "outputs": [],
   "source": [
    "# Test data (rVert unitigs)\n",
    "aws s3 cp s3://serratus-public/rce/tmp/rvert_otu_analysis.tar.gz ./\n",
    "tar -xvf rvert*"
   ]
  },
  {
   "cell_type": "code",
   "execution_count": null,
   "metadata": {},
   "outputs": [],
   "source": [
    "#!/bin/bash\n",
    "# run_diamond.sh\n",
    "#\n",
    "# Diamond search standard for Serratus blastp\n",
    "# against NR database\n",
    "# ./run_diamond.sh p rdrp_trim.fa rdrp_nr\n",
    "#\n",
    "\n",
    "PX=$1\n",
    "INPUT=$2\n",
    "OUTPUT=$3\n",
    "\n",
    "\n",
    "if [ $PX = \"p\" ]; then\n",
    "    # Diamond blastp alignment\n",
    "    time diamond blastp \\\n",
    "      -q  $INPUT \\\n",
    "      -d ~/nr/nr.dmnd \\\n",
    "      --masking 0 \\\n",
    "      --unal 1 \\\n",
    "      --mid-sensitive -l 1 \\\n",
    "      -p14 -k1 \\\n",
    "      -f 6 qseqid  qstart qend qlen qstrand \\\n",
    "           sseqid  sstart send slen \\\n",
    "           pident evalue \\\n",
    "           full_qseq \\\n",
    "      > \"$OUTPUT\".pro\n",
    "elif [ $PX = \"x\" ]; then\n",
    "    # Diamond blastx alignment\n",
    "    time diamond blastx \\\n",
    "      -q  $INPUT \\\n",
    "      -d ~/nr/nr.dmnd \\\n",
    "      --masking 0 \\\n",
    "      --unal 1 \\\n",
    "      --mid-sensitive -l 1 \\\n",
    "      -p14 -k1 \\\n",
    "      -f 6 qseqid  qstart qend qlen qstrand \\\n",
    "           sseqid  sstart send slen \\\n",
    "           pident evalue \\\n",
    "           qseq_translated \\\n",
    "      > \"$OUTPUT\".x.pro\n",
    "else\n",
    "    echo \"Please specifify diamond 'x' or 'p'\"\n",
    "fi\n",
    "\n",
    "#real    189m26.120s\n",
    "#user    2306m8.703s\n",
    "#sys     5m57.681s\n"
   ]
  },
  {
   "cell_type": "markdown",
   "metadata": {},
   "source": [
    "## Analyzing Serratus Trim Sequences\n",
    "\n",
    "> RCE:\n",
    ">\n",
    "> (Thread) updated novel species FASTA\n",
    ">\n",
    "> s3://serratus-public/rce/tmp/novel_id90.fa\n",
    ">\n",
    "> 128,481 species after adding the missed knowns in NR."
   ]
  },
  {
   "cell_type": "code",
   "execution_count": null,
   "metadata": {},
   "outputs": [],
   "source": [
    "# Download trimmed HICON sequences from serratus assemblage\n",
    "aws s3 cp s3://serratus-public/rce/tmp/novel_id90.fa ./serratus.rdrp.trim.v1.fa\n",
    "\n",
    "# Metadata for serratus v1 total assemblage (600 585 sequences)\n",
    "# 1. pctid of trimmed sOTU 2. SRA with NODE... label from CS, 3. SRA of species\n",
    "aws s3 cp s3://serratus-public/rce/tmp/sra_species_table.tsv ./sv1_table.tsv"
   ]
  },
  {
   "cell_type": "code",
   "execution_count": null,
   "metadata": {},
   "outputs": [],
   "source": [
    "# Align against NR database\n",
    "screen\n",
    "./run_diamond.sh p serratus.rdrp.trim.v1.fa s1.rdrp_nr"
   ]
  },
  {
   "cell_type": "code",
   "execution_count": null,
   "metadata": {},
   "outputs": [],
   "source": [
    "INPUT='novel_sp.hicon.trim.fa'\n",
    "OUTPUT='novel_sp.vOTU'\n",
    "\n",
    "# Diamond blastp alignment\n",
    "time diamond blastp \\\n",
    "  -q  $INPUT \\\n",
    "  -d vOTU_210122.dmnd \\\n",
    "  --masking 0 \\\n",
    "  --unal 1 \\\n",
    "  --ultra-sensitive -l 1 \\\n",
    "  -p4 -k1 -b2 \\\n",
    "  -f 6 qseqid  qstart qend qlen qstrand \\\n",
    "       sseqid  sstart send slen \\\n",
    "       pident evalue \\\n",
    "       full_qseq \\\n",
    "  > \"$OUTPUT\".pro\n",
    "  \n",
    "# Extract nidovirales\n",
    "INPUT=\"$OUTPUT.pro\"\n",
    "OUTPUT='novel_sp.vOTU'\n",
    "\n",
    "grep -w \"[Ff]1357\" $INPUT >  $OUTPUT.nido.pro\n",
    "grep -w \"[Ff]1601\" $INPUT >> $OUTPUT.nido.pro\n",
    "grep -w \"[Ff]1219\" $INPUT >> $OUTPUT.nido.pro\n",
    "grep -w \"[Ff]162\"  $INPUT >> $OUTPUT.nido.pro\n",
    "grep -w \"[Ff]2095\" $INPUT >> $OUTPUT.nido.pro\n",
    "grep -w \"[Ff]21\"   $INPUT >> $OUTPUT.nido.pro\n",
    "grep -w \"[Ff]1854\" $INPUT >> $OUTPUT.nido.pro\n",
    "grep -w \"[Ff]232\"  $INPUT >> $OUTPUT.nido.pro\n",
    "grep -w \"[Ff]1408\" $INPUT >> $OUTPUT.nido.pro\n",
    "grep -w \"[Ff]1409\" $INPUT >> $OUTPUT.nido.pro\n",
    "grep -w \"[Ff]2519\" $INPUT >> $OUTPUT.nido.pro\n",
    "grep -w \"[Ff]1640\" $INPUT >> $OUTPUT.nido.pro\n",
    "grep -w \"[Ff]1944\" $INPUT >> $OUTPUT.nido.pro\n",
    "grep -w \"[Ff]2763\" $INPUT >> $OUTPUT.nido.pro\n",
    "grep -w \"[Ff]2554\" $INPUT >> $OUTPUT.nido.pro\n",
    "\n",
    "sed \"s/^/>/g\" $OUTPUT.nido.pro \\\n",
    "  | sed \"s/\\t.*\\t/\\n/g\" - \\\n",
    "  > $OUTPUT.nido.fa\n",
    "  \n",
    "  \n",
    "# Extract vOTU unique sequences\n",
    "extract_family () {\n",
    "  seqkit grep -r -n -i -p \"$2\" $1 | seqkit grep -r -n -p \"S\" -\n",
    "}\n",
    "\n",
    "extract_family uniques.fa F1601  > nido.votu.fa\n",
    "extract_family uniques.fa F1219  >> nido.votu.fa\n",
    "extract_family uniques.fa F162   >> nido.votu.fa\n",
    "extract_family uniques.fa F2095  >> nido.votu.fa\n",
    "extract_family uniques.fa F21    >> nido.votu.fa\n",
    "extract_family uniques.fa F1854  >> nido.votu.fa\n",
    "extract_family uniques.fa F232   >> nido.votu.fa\n",
    "extract_family uniques.fa F1408  >> nido.votu.fa\n",
    "extract_family uniques.fa F1409  >> nido.votu.fa\n",
    "extract_family uniques.fa F2519  >> nido.votu.fa\n",
    "extract_family uniques.fa F1640  >> nido.votu.fa\n",
    "extract_family uniques.fa F1944  >> nido.votu.fa\n",
    "extract_family uniques.fa F2763  >> nido.votu.fa\n",
    "extract_family uniques.fa F2554  >> nido.votu.fa\n",
    "\n",
    "\n"
   ]
  }
 ],
 "metadata": {
  "kernelspec": {
   "display_name": "Bash",
   "language": "bash",
   "name": "bash"
  },
  "language_info": {
   "codemirror_mode": "shell",
   "file_extension": ".sh",
   "mimetype": "text/x-sh",
   "name": "bash"
  }
 },
 "nbformat": 4,
 "nbformat_minor": 1
}
